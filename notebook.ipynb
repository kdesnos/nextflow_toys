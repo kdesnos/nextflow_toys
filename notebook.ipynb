{
 "cells": [
  {
   "cell_type": "markdown",
   "metadata": {},
   "source": [
    "# Nextflow optimizer notebook"
   ]
  },
  {
   "cell_type": "markdown",
   "metadata": {},
   "source": [
    "The current objective of this notebook is to:\n",
    "1. Load execution trace of a Nextflow workflow.\n",
    "2. Extract timing information of the different tasks executed.\n",
    "3. (Optionnaly) Visualize the extracted information, similarly to what is done in nextflow reports\n",
    "4. Generate Nextflow config file overriding the process time limit with the worst-case execution time observed.\n",
    "\n",
    "In future version, it might be useful to maintain a database of process runtimes to better understand how this runtime evolves depending on its parameterization, or depending on the node used to run it."
   ]
  },
  {
   "cell_type": "markdown",
   "metadata": {},
   "source": [
    "## 1. Notebook parameters"
   ]
  },
  {
   "cell_type": "code",
   "execution_count": null,
   "metadata": {},
   "outputs": [],
   "source": [
    "from pathlib import Path\n",
    "\n",
    "html_report = Path(\"/path/t/folder\",\"report_file.html\")\n",
    "output_config_file = Path(\"/path/to/folder\",\"config_file.config\")"
   ]
  },
  {
   "cell_type": "markdown",
   "metadata": {},
   "source": [
    "## 2. Load data"
   ]
  },
  {
   "cell_type": "markdown",
   "metadata": {},
   "source": [
    "### 2.1 Load data from HTML"
   ]
  },
  {
   "cell_type": "code",
   "execution_count": null,
   "metadata": {},
   "outputs": [],
   "source": [
    "import extract_trace_from_html as parser\n",
    "\n",
    "trace_df = parser.extract_trace_data(html_report)\n",
    "\n",
    "if trace_df is not None:\n",
    "    print(f\"Extracted {trace_df.shape[0]} process execution traces.\")"
   ]
  },
  {
   "cell_type": "markdown",
   "metadata": {},
   "source": [
    "### 2.2 Process dataframe"
   ]
  },
  {
   "cell_type": "code",
   "execution_count": null,
   "metadata": {},
   "outputs": [],
   "source": [
    "# Extract process name and path within the workflow as separate columns.\n",
    "trace_df['process_name'] = trace_df['process'].str.split(':').str[-1]\n",
    "trace_df['process_path'] = trace_df['process'].str.split(':').str[:-1].str.join(':')"
   ]
  },
  {
   "cell_type": "markdown",
   "metadata": {},
   "source": [
    "## 3. Display useful info"
   ]
  },
  {
   "cell_type": "markdown",
   "metadata": {},
   "source": [
    "### 3.1 Process execution time box plot"
   ]
  },
  {
   "cell_type": "code",
   "execution_count": null,
   "metadata": {},
   "outputs": [],
   "source": [
    "import display_process_timings as viewer\n",
    "\n",
    "name_filter = None # Optionnaly a string can be given to the viewer to display only processes containing this string\n",
    "                   # Use None if no filter is wanted\n",
    "\n",
    "viewer.plot_realtime_boxplot(trace_df, name_filter)"
   ]
  },
  {
   "cell_type": "markdown",
   "metadata": {},
   "source": [
    "### 3.2 Icicle chart of processes"
   ]
  },
  {
   "cell_type": "code",
   "execution_count": null,
   "metadata": {},
   "outputs": [],
   "source": [
    "import display_icicle_chart as visualizer\n",
    "\n",
    "visualizer.create_icicle_chart(trace_df, include_names=True)"
   ]
  },
  {
   "cell_type": "markdown",
   "metadata": {},
   "source": [
    "### 3.3 Processing times"
   ]
  },
  {
   "cell_type": "code",
   "execution_count": null,
   "metadata": {},
   "outputs": [],
   "source": [
    "sum = trace_df['realtime'].sum()\n",
    "sum_cpu = (trace_df['realtime'] * trace_df['cpus']).sum()\n",
    "\n",
    "print(f'Sum of all process execution time: {sum}')\n",
    "print(f'Sum of all (process exec time)*(nb cpu): {sum_cpu}')"
   ]
  },
  {
   "cell_type": "markdown",
   "metadata": {},
   "source": [
    "### 3.4 Average wait time"
   ]
  },
  {
   "cell_type": "code",
   "execution_count": null,
   "metadata": {},
   "outputs": [],
   "source": [
    "import display_process_timings as viewer\n",
    "\n",
    "viewer.plot_wait_times(trace_df)"
   ]
  },
  {
   "cell_type": "markdown",
   "metadata": {},
   "source": [
    "## 4. Export Config File"
   ]
  },
  {
   "cell_type": "code",
   "execution_count": null,
   "metadata": {},
   "outputs": [],
   "source": [
    "import config_file_generator as generator\n",
    "\n",
    "generator.generate_nextflow_config(trace_df, output_config_file)"
   ]
  }
 ],
 "metadata": {
  "kernelspec": {
   "display_name": ".venv",
   "language": "python",
   "name": "python3"
  },
  "language_info": {
   "codemirror_mode": {
    "name": "ipython",
    "version": 3
   },
   "file_extension": ".py",
   "mimetype": "text/x-python",
   "name": "python",
   "nbconvert_exporter": "python",
   "pygments_lexer": "ipython3",
   "version": "3.8.0"
  }
 },
 "nbformat": 4,
 "nbformat_minor": 2
}
